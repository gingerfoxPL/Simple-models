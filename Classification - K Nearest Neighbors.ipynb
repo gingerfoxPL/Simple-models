{
 "cells": [
  {
   "cell_type": "code",
   "execution_count": 1,
   "id": "358a6b01",
   "metadata": {},
   "outputs": [],
   "source": [
    "import pandas as pd\n",
    "import numpy as np\n",
    "from sklearn import preprocessing, neighbors, model_selection"
   ]
  },
  {
   "cell_type": "code",
   "execution_count": 2,
   "id": "25045702",
   "metadata": {},
   "outputs": [
    {
     "name": "stdout",
     "output_type": "stream",
     "text": [
      "0.9785714285714285\n",
      "[2]\n"
     ]
    }
   ],
   "source": [
    "df = pd.read_csv('./breast-cancer-wisconsin.data', header = None)\n",
    "\n",
    "df.columns = ['id','clump_thickness','unif_cell_sze','unif_cell_shape',\n",
    "              'marge_adhesion','single_epith_cell_size','bare_nuclei',\n",
    "              'bland_chrom','norm_nucleoli','mitoses','class']\n",
    "\n",
    "df.replace('?', -99999, inplace = True)\n",
    "df.drop(['id'], axis=1, inplace=True)\n",
    "\n",
    "X = np.array(df.drop(['class'], axis=1))\n",
    "y = np.array(df['class'])\n",
    "\n",
    "X_train, X_test, y_train, y_test = model_selection.train_test_split(X,y,test_size=0.2)\n",
    "\n",
    "clf = neighbors.KNeighborsClassifier()\n",
    "clf.fit(X_train, y_train)\n",
    "\n",
    "accuracy = clf.score(X_test,y_test)\n",
    "print(accuracy)\n",
    "\n",
    "example_measures = np.array( [4,2,1,1,1,2,3,2,1], dtype = object)\n",
    "example_measures = example_measures.reshape(1,-1)\n",
    "prediction = clf.predict(example_measures)\n",
    "print(prediction)\n",
    " \n",
    "\n",
    " "
   ]
  },
  {
   "cell_type": "markdown",
   "id": "c326f6eb",
   "metadata": {},
   "source": [
    "# Euclidean distance"
   ]
  },
  {
   "cell_type": "code",
   "execution_count": 5,
   "id": "020d0ee0",
   "metadata": {},
   "outputs": [
    {
     "name": "stdout",
     "output_type": "stream",
     "text": [
      "2.23606797749979\n"
     ]
    }
   ],
   "source": [
    "import numpy as np\n",
    "from math import sqrt\n",
    "import matplotlib.pyplot as plt\n",
    "import warnings\n",
    "from matplotlib import style\n",
    "from collections import Counter\n",
    "style.use('fivethirtyeight')\n",
    "\n",
    "plot1 = [1,3]\n",
    "plot2 = [2,5]\n",
    "\n",
    "euclidean_distance = sqrt(  (plot1[0]-plot2[0])**2 + (plot1[1]-plot2[1])**2  )\n",
    "\n",
    "print(euclidean_distance)"
   ]
  },
  {
   "cell_type": "markdown",
   "id": "f7110098",
   "metadata": {},
   "source": [
    "# K Nearest Neighbors Algorithm"
   ]
  },
  {
   "cell_type": "code",
   "execution_count": 6,
   "id": "ba1a309f",
   "metadata": {},
   "outputs": [
    {
     "name": "stdout",
     "output_type": "stream",
     "text": [
      "[('r', 3)]\n",
      "r\n"
     ]
    }
   ],
   "source": [
    "import numpy as np\n",
    "from math import sqrt\n",
    "import matplotlib.pyplot as plt\n",
    "import warnings\n",
    "from matplotlib import style\n",
    "from collections import Counter\n",
    "style.use('fivethirtyeight')\n",
    "import pandas as pd\n",
    "import random\n",
    "\n",
    "dataset = {'k':[[1,2],[2,3],[3,1]], 'r':[[6,5],[7,7],[8,6]]}\n",
    "new_features = [5,7]\n",
    "\n",
    "#[[plt.scatter(ii[0],ii[1],s=100, color=i) for ii in dataset[i]] for i in dataset]\n",
    "#plt.scatter(new_features[0],new_features[1], s=100)\n",
    "#plt.show()\n",
    "\n",
    "def k_nearest_neighbours(data, predict, k=3):\n",
    "    if len(data) >= k:\n",
    "        warnings.warn('K is set to a value less than total voting groups!')\n",
    "    distances = []\n",
    "    for group in data:\n",
    "        for features in data[group]: \n",
    "            euclidean_distance = np.linalg.norm(np.array(features)-np.array(predict))\n",
    "            distances.append([euclidean_distance, group])\n",
    "            \n",
    "    votes = [i[1] for i in sorted(distances)[:k]]\n",
    "    print(Counter(votes).most_common(1))\n",
    "    vote_results = Counter(votes).most_common(1)[0][0]\n",
    "    \n",
    "    return vote_results\n",
    "\n",
    "results = k_nearest_neighbours(dataset, new_features, k=3)\n",
    "print(results)"
   ]
  },
  {
   "cell_type": "code",
   "execution_count": 23,
   "id": "96c01f0d",
   "metadata": {},
   "outputs": [
    {
     "name": "stdout",
     "output_type": "stream",
     "text": [
      "0.9715107913669062\n"
     ]
    }
   ],
   "source": [
    "import numpy as np\n",
    "from math import sqrt\n",
    "import matplotlib.pyplot as plt\n",
    "import warnings\n",
    "from matplotlib import style\n",
    "from collections import Counter\n",
    "style.use('fivethirtyeight')\n",
    "import pandas as pd\n",
    "import random\n",
    "\n",
    "def k_nearest_neighbours(data, predict, k=3):\n",
    "    if len(data) >= k:\n",
    "        warnings.warn('K is set to a value less than total voting groups!')\n",
    "    distances = []\n",
    "    for group in data:\n",
    "        for features in data[group]:\n",
    "            euclidean_distance = np.linalg.norm(np.array(features)-np.array(predict))\n",
    "            distances.append([euclidean_distance, group])\n",
    "            \n",
    "    votes = [i[1] for i in sorted(distances)[:k]]\n",
    "    #print(Counter(votes).most_common(1))\n",
    "    vote_results = Counter(votes).most_common(1)[0][0]\n",
    "    confidece = Counter(votes).most_common(1)[0][1] / k\n",
    "    \n",
    "    #print(vote_results, confidece)\n",
    "    \n",
    "    return vote_results, confidece\n",
    "\n",
    "accuracies = []\n",
    "\n",
    "for i in range(25):\n",
    "    df = pd.read_csv('./breast-cancer-wisconsin.data', header = None)\n",
    "\n",
    "    df.columns = ['id','clump_thickness','unif_cell_sze','unif_cell_shape',\n",
    "                  'marge_adhesion','single_epith_cell_size','bare_nuclei',\n",
    "                  'bland_chrom','norm_nucleoli','mitoses','class']\n",
    "\n",
    "    df.replace('?', -99999, inplace = True)\n",
    "    df.drop(['id'], axis=1, inplace=True)\n",
    "    full_data = df.astype(float).values.tolist()\n",
    "    random.shuffle(full_data)\n",
    "\n",
    "    test_size = 0.2\n",
    "    train_set  = {2:[], 4:[]}\n",
    "    test_set = {2:[], 4:[]}\n",
    "    train_data = full_data[:-int(test_size*len(full_data))]\n",
    "    test_data = full_data[-int(test_size*len(full_data)):]\n",
    "\n",
    "    for i in train_data:\n",
    "        train_set[i[-1]].append(i[:-1])\n",
    "\n",
    "    for i in test_data:\n",
    "        test_set[i[-1]].append(i[:-1])\n",
    "\n",
    "    correct = 0\n",
    "    total = 0\n",
    "\n",
    "    for group in test_set:\n",
    "        for data in test_set[group]:\n",
    "            vote, confidence = k_nearest_neighbours(train_set, data, k=5) \n",
    "            if group == vote:\n",
    "                correct +=1\n",
    "            #else:\n",
    "             #   print(confidence)\n",
    "            total += 1\n",
    "\n",
    "    #print('Accuracy:', correct/total)\n",
    "    accuracies.append(correct/total)\n",
    "    \n",
    "print(sum(accuracies)/len(accuracies))"
   ]
  }
 ],
 "metadata": {
  "kernelspec": {
   "display_name": "Python 3 (ipykernel)",
   "language": "python",
   "name": "python3"
  },
  "language_info": {
   "codemirror_mode": {
    "name": "ipython",
    "version": 3
   },
   "file_extension": ".py",
   "mimetype": "text/x-python",
   "name": "python",
   "nbconvert_exporter": "python",
   "pygments_lexer": "ipython3",
   "version": "3.10.9"
  }
 },
 "nbformat": 4,
 "nbformat_minor": 5
}
